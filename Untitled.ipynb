{
 "cells": [
  {
   "cell_type": "code",
   "execution_count": 1,
   "id": "4054dab9-f491-4cae-b0f5-dd573fd5a600",
   "metadata": {
    "id": "0908b3f1-606e-44d4-bdcb-f54837285e3b",
    "tags": []
   },
   "outputs": [
    {
     "name": "stdout",
     "output_type": "stream",
     "text": [
      "Sample Git Projects Jupyter Lab\n"
     ]
    }
   ],
   "source": [
    "print(\"Sample Git Projects Jupyter Lab\")"
   ]
  },
  {
   "cell_type": "code",
   "execution_count": null,
   "id": "30d496e5-e5d4-4ec4-a508-641ff768eaa8",
   "metadata": {
    "id": "30d496e5-e5d4-4ec4-a508-641ff768eaa8"
   },
   "outputs": [],
   "source": []
  }
 ],
 "metadata": {
  "kernelspec": {
   "display_name": "Python 3.10",
   "language": "python",
   "name": "python3"
  },
  "language_info": {
   "codemirror_mode": {
    "name": "ipython",
    "version": 3
   },
   "file_extension": ".py",
   "mimetype": "text/x-python",
   "name": "python",
   "nbconvert_exporter": "python",
   "pygments_lexer": "ipython3",
   "version": "3.10.9"
  }
 },
 "nbformat": 4,
 "nbformat_minor": 5
}
